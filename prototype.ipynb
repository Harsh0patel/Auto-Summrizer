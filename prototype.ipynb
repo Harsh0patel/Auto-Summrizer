{
 "cells": [
  {
   "cell_type": "code",
   "execution_count": 1,
   "id": "5da5f2c2",
   "metadata": {},
   "outputs": [],
   "source": [
    "import pandas as pd\n",
    "\n",
    "df = pd.read_json('ai_summarization_100.jsonl', lines = True)\n",
    "df_text = df['text']\n",
    "df_summary = df['summary']\n",
    "df_text = pd.DataFrame(df_text)\n",
    "df_summary = pd.DataFrame(df_summary)"
   ]
  },
  {
   "cell_type": "code",
   "execution_count": 2,
   "id": "0e164b8f",
   "metadata": {},
   "outputs": [],
   "source": [
    "import sentencepiece as spm\n",
    "spm.SentencePieceTrainer.Train(input = 'ai_summarization_100.jsonl', model_prefix = 'bpe', vocab_size = 200)"
   ]
  },
  {
   "cell_type": "code",
   "execution_count": 3,
   "id": "d98231ef",
   "metadata": {},
   "outputs": [],
   "source": [
    "sp = spm.SentencePieceProcessor(model_file = 'bpe.model')"
   ]
  },
  {
   "cell_type": "code",
   "execution_count": 4,
   "id": "976ffe0c",
   "metadata": {},
   "outputs": [],
   "source": [
    "text_tokens = []\n",
    "summary_tokens = []\n",
    "\n",
    "for i in range(len(df_text)):\n",
    "    token = sp.Encode(str(df.iloc[i]['text']), out_type = int)\n",
    "    text_tokens.append(token)\n",
    "\n",
    "for i in range(len(df_summary)):\n",
    "    token = sp.Encode(str(df.iloc[i]['summary']), out_type = int)\n",
    "    summary_tokens.append(token)"
   ]
  },
  {
   "cell_type": "code",
   "execution_count": 5,
   "id": "3d7d10a8",
   "metadata": {},
   "outputs": [
    {
     "data": {
      "text/plain": [
       "52"
      ]
     },
     "execution_count": 5,
     "metadata": {},
     "output_type": "execute_result"
    }
   ],
   "source": [
    "lengths = [len(i) for i in text_tokens]\n",
    "max_len = max(lengths)\n",
    "max_len"
   ]
  },
  {
   "cell_type": "code",
   "execution_count": 6,
   "id": "683d47d8",
   "metadata": {},
   "outputs": [
    {
     "data": {
      "text/plain": [
       "18"
      ]
     },
     "execution_count": 6,
     "metadata": {},
     "output_type": "execute_result"
    }
   ],
   "source": [
    "lengths = [len(i) for i in summary_tokens]\n",
    "max_len = max(lengths)\n",
    "max_len"
   ]
  },
  {
   "cell_type": "code",
   "execution_count": 7,
   "id": "a7f6b574",
   "metadata": {},
   "outputs": [
    {
     "name": "stdout",
     "output_type": "stream",
     "text": [
      "Using cuda device\n"
     ]
    }
   ],
   "source": [
    "import os\n",
    "import torch\n",
    "from torch import nn\n",
    "from torch.nn import Embedding, LSTM\n",
    "from torch.utils.data import DataLoader, Dataset\n",
    "from torch.nn.utils.rnn import pad_sequence\n",
    "from sklearn.model_selection import train_test_split\n",
    "\n",
    "device = \"cuda\" if torch.cuda.is_available() else \"cpu\"\n",
    "print(f\"Using {device} device\")"
   ]
  },
  {
   "cell_type": "code",
   "execution_count": 8,
   "id": "0fabe6b5",
   "metadata": {},
   "outputs": [],
   "source": [
    "from sklearn.model_selection import train_test_split\n",
    "\n",
    "x_train, x_test, y_train, y_test = train_test_split(text_tokens, summary_tokens, train_size = 0.9, random_state = 42)"
   ]
  },
  {
   "cell_type": "code",
   "execution_count": 9,
   "id": "6ed8133d",
   "metadata": {},
   "outputs": [],
   "source": [
    "# making tensors\n",
    "class d(Dataset):\n",
    "    def __init__(self, input, target):\n",
    "        self.input = input\n",
    "        self.target = target\n",
    "\n",
    "    def __len__(self):\n",
    "        return len(self.input)\n",
    "\n",
    "    def __getitem__(self, idx):\n",
    "\n",
    "        return {\n",
    "            \"input_ids\":torch.tensor(self.input[idx], dtype = torch.long),\n",
    "            \"target_ids\":torch.tensor(self.target[idx], dtype = torch.long)\n",
    "        }\n",
    "\n",
    "# padding sequences \n",
    "def collate_fn(batch):\n",
    "    inputs = [i[\"input_ids\"] for i in batch]\n",
    "    targets = [i[\"target_ids\"] for i in batch]\n",
    "\n",
    "    inputs_with_padding = pad_sequence(inputs, batch_first = True, padding_value = 0)\n",
    "    targets_with_padding = pad_sequence(targets, batch_first = True, padding_value = 0)\n",
    "\n",
    "    return {\n",
    "        \"input_ids\":inputs_with_padding,\n",
    "        \"target_ids\":targets_with_padding\n",
    "    }\n",
    "\n",
    "\n",
    "# Dataloader for train and test in network\n",
    "train_dataset = d(x_train, y_train)\n",
    "test_dataset = d(x_test, y_test)\n",
    "\n",
    "train_loader = DataLoader(train_dataset, batch_size = 12, shuffle = True, collate_fn = collate_fn)\n",
    "test_loader = DataLoader(test_dataset, batch_size = 2, shuffle = True, collate_fn = collate_fn)"
   ]
  },
  {
   "cell_type": "code",
   "execution_count": 10,
   "id": "da966623",
   "metadata": {},
   "outputs": [],
   "source": [
    "# Encoder class\n",
    "class Encoderlstm(torch.nn.Module):\n",
    "    def __init__(self, vocab_size, embedding_dim, hidden_size):\n",
    "        super().__init__()\n",
    "        self.x1 = nn.Embedding(num_embeddings = vocab_size, embedding_dim = embedding_dim)\n",
    "        self.x2 = nn.LSTM(input_size = embedding_dim, hidden_size = hidden_size, batch_first = True)\n",
    "\n",
    "    def ForwardEncode(self, input_ids):\n",
    "        x = self.x1(input_ids)\n",
    "        outputs, (h, c) = self.x2(x)\n",
    "        return outputs, (h, c)\n",
    "    \n",
    "#Decoder class\n",
    "class decoderlstm(torch.nn.Module):\n",
    "    def __init__(self, vocab_size, embadding_dim, hidden_size):\n",
    "        super().__init__()\n",
    "        self.x1 = nn.Embedding(num_embeddings = vocab_size, embedding_dim = embadding_dim)\n",
    "        self.x2 = nn.LSTM(input_size = embadding_dim, hidden_size = hidden_size, batch_first = True)\n",
    "        self.x3 = nn.Linear(hidden_size, vocab_size)\n",
    "\n",
    "    def ForwordDecode(self, input_ids, encoder_hidden):\n",
    "        a = self.x1(input_ids)\n",
    "        b, _ = self.x2(a, encoder_hidden)\n",
    "        c = self.x3(b)\n",
    "        return c"
   ]
  },
  {
   "cell_type": "code",
   "execution_count": 11,
   "id": "63e5a33f",
   "metadata": {},
   "outputs": [],
   "source": [
    "# Trainer\n",
    "\n",
    "class Seq2SeqTrainer:\n",
    "    def __init__(self, encoder, decoder, optimizer, loss_fn, device):\n",
    "        self.encoder = encoder\n",
    "        self.decoder = decoder\n",
    "        self.optimizer = optimizer\n",
    "        self.loss_fn = loss_fn\n",
    "        self.device = device\n",
    "\n",
    "    def train(self, dataloader, epochs=5, teacher_forcing_ratio=0.5):\n",
    "        self.encoder.train()\n",
    "        self.decoder.train()\n",
    "\n",
    "        for epoch in range(epochs):\n",
    "            total_loss = 0\n",
    "            for batch in dataloader:\n",
    "                input_ids = batch[\"input_ids\"].to(self.device)       # (B, src_len)\n",
    "                target_ids = batch[\"target_ids\"].to(self.device)     # (B, tgt_len)\n",
    "\n",
    "                batch_size, tgt_len = target_ids.shape\n",
    "                vocab_size = self.decoder.x3.out_features\n",
    "\n",
    "                # 1. Encode source\n",
    "                _, hidden = self.encoder.ForwardEncode(input_ids)\n",
    "\n",
    "                # 2. Prepare decoder input\n",
    "                decoder_input = target_ids[:, 0].unsqueeze(1)  # (B, 1)\n",
    "                decoder_hidden = hidden\n",
    "\n",
    "                outputs = torch.zeros(batch_size, tgt_len, vocab_size).to(self.device)\n",
    "\n",
    "                for t in range(1, tgt_len):\n",
    "                    decoder_output = self.decoder.ForwordDecode(decoder_input, decoder_hidden)\n",
    "                    decoder_hidden = decoder_output[1] if isinstance(decoder_output, tuple) else decoder_hidden\n",
    "                    logits = decoder_output[:, -1, :] if decoder_output.dim() == 3 else decoder_output\n",
    "\n",
    "                    outputs[:, t] = logits\n",
    "\n",
    "                    teacher_force = torch.rand(1).item() < teacher_forcing_ratio\n",
    "                    top1 = logits.argmax(1).unsqueeze(1)  # (B, 1)\n",
    "\n",
    "                    decoder_input = target_ids[:, t].unsqueeze(1) if teacher_force else top1\n",
    "\n",
    "                # 3. Compute loss\n",
    "                loss = self.loss_fn(outputs[:, 1:].reshape(-1, vocab_size),\n",
    "                                    target_ids[:, 1:].reshape(-1))\n",
    "\n",
    "                # 4. Backward & optimize\n",
    "                self.optimizer.zero_grad()\n",
    "                loss.backward()\n",
    "                self.optimizer.step()\n",
    "\n",
    "                total_loss += loss.item()\n",
    "\n",
    "            print(f\"Epoch [{epoch+1}/{epochs}] Loss: {total_loss/len(dataloader):.4f}\")\n"
   ]
  },
  {
   "cell_type": "code",
   "execution_count": 12,
   "id": "f8dced7e",
   "metadata": {},
   "outputs": [],
   "source": [
    "encoder = Encoderlstm(200, 32, 64).to(device)\n",
    "decoder = decoderlstm(200, 32, 64).to(device)\n",
    "optimizer = torch.optim.Adam(list(encoder.parameters()) + list(decoder.parameters()))\n",
    "loss = nn.CrossEntropyLoss(ignore_index = 0)\n",
    "trainer = Seq2SeqTrainer(encoder, decoder, optimizer, loss, device)"
   ]
  },
  {
   "cell_type": "code",
   "execution_count": 13,
   "id": "e9441cad",
   "metadata": {},
   "outputs": [
    {
     "name": "stdout",
     "output_type": "stream",
     "text": [
      "Epoch [1/10] Loss: 5.2813\n",
      "Epoch [2/10] Loss: 5.1571\n",
      "Epoch [3/10] Loss: 4.9127\n",
      "Epoch [4/10] Loss: 4.5475\n",
      "Epoch [5/10] Loss: 4.2878\n",
      "Epoch [6/10] Loss: 4.1614\n",
      "Epoch [7/10] Loss: 4.1097\n",
      "Epoch [8/10] Loss: 4.0806\n",
      "Epoch [9/10] Loss: 4.0484\n",
      "Epoch [10/10] Loss: 4.0133\n"
     ]
    }
   ],
   "source": [
    "trainer.train(train_loader, epochs = 10, teacher_forcing_ratio = 0.5)"
   ]
  },
  {
   "cell_type": "code",
   "execution_count": 14,
   "id": "fe7eed26",
   "metadata": {},
   "outputs": [],
   "source": [
    "def generate_summary(encoder, decoder, input_ids, max_len=30, start_token=0, eos_token=None, device='cpu'):\n",
    "    encoder.eval()\n",
    "    decoder.eval()\n",
    "\n",
    "    input_ids = input_ids.to(device)\n",
    "    with torch.no_grad():\n",
    "        # Encode input\n",
    "        _, encoder_hidden = encoder.ForwardEncode(input_ids)\n",
    "\n",
    "        decoder_input = torch.tensor([[start_token]], device=device)  # start with <BOS>\n",
    "        decoder_hidden = encoder_hidden\n",
    "\n",
    "        summary_ids = [start_token]\n",
    "\n",
    "        for _ in range(max_len):\n",
    "            output = decoder.ForwordDecode(decoder_input, decoder_hidden)\n",
    "            logits = output[:, -1, :]  # take output for current step\n",
    "\n",
    "            next_token = logits.argmax(1).item()\n",
    "            summary_ids.append(next_token)\n",
    "\n",
    "            if eos_token is not None and next_token == eos_token:\n",
    "                break\n",
    "\n",
    "            decoder_input = torch.tensor([[next_token]], device=device)\n",
    "\n",
    "    return summary_ids  # token IDs to decode\n"
   ]
  },
  {
   "cell_type": "code",
   "execution_count": 16,
   "id": "b569db24",
   "metadata": {},
   "outputs": [
    {
     "name": "stdout",
     "output_type": "stream",
     "text": [
      "Generated Summary:  ⁇ ssssssssssssssssssssssssssssss\n",
      "test Output :  Balances uneven data distributions.\n"
     ]
    }
   ],
   "source": [
    "# Assume test_input is a tensor of shape (1, seq_len)\n",
    "test_input = torch.tensor([x_test[0]],dtype = torch.long)\n",
    "summary_ids = generate_summary(encoder, decoder, test_input, start_token=0, eos_token=1, device=device)\n",
    "\n",
    "# Decode the tokens back to text\n",
    "decoded_summary = sp.decode(summary_ids)  # or use your tokenizer's decode method\n",
    "print(\"Generated Summary:\", decoded_summary)\n",
    "print(\"test Output : \",sp.Decode(y_test[0]))"
   ]
  }
 ],
 "metadata": {
  "kernelspec": {
   "display_name": "Python 3",
   "language": "python",
   "name": "python3"
  },
  "language_info": {
   "codemirror_mode": {
    "name": "ipython",
    "version": 3
   },
   "file_extension": ".py",
   "mimetype": "text/x-python",
   "name": "python",
   "nbconvert_exporter": "python",
   "pygments_lexer": "ipython3",
   "version": "3.11.9"
  }
 },
 "nbformat": 4,
 "nbformat_minor": 5
}
