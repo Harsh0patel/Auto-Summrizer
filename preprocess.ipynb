{
 "cells": [
  {
   "cell_type": "code",
   "execution_count": 1,
   "id": "887a1e5b",
   "metadata": {},
   "outputs": [],
   "source": [
    "import pandas as pd\n",
    "import re\n",
    "import spacy\n",
    "\n",
    "df = pd.read_json('data/train_chunk_1.jsonl', lines = True)"
   ]
  },
  {
   "cell_type": "code",
   "execution_count": 2,
   "id": "c070ff2e",
   "metadata": {},
   "outputs": [],
   "source": [
    "# Load spaCy English model\n",
    "nlp = spacy.load(\"en_core_web_sm\")\n",
    "\n",
    "def clean_text_regex(text):\n",
    "    text = re.sub(r'xmath\\d+', '', text)  # Remove math symbols like xmath123\n",
    "    text = re.sub(r'\\\\[a-zA-Z]+', '', text)  # Remove LaTeX commands like \\alpha\n",
    "    text = re.sub(r'xcite', '', text)  # Remove citation placeholders\n",
    "    text = re.sub(r'\\[.*?\\]', '', text)  # Remove brackets and references\n",
    "    text = re.sub(r'\\d+', '', text)  # Remove standalone numbers\n",
    "    text = re.sub(r'\\s+', ' ', text)  # Normalize spaces\n",
    "    return text.strip()\n",
    "\n",
    "\n",
    "def basic_clean(text):\n",
    "    text = text.lower()\n",
    "    text = re.sub(r'\\n+', ' ', text)                   # remove line breaks\n",
    "    text = re.sub(r'https?://\\S+|www\\.\\S+', '', text)  # remove URLs\n",
    "    text = re.sub(r'\\S+@\\S+', '', text)                # remove emails\n",
    "    text = re.sub(r'\\d{10,}', '', text)                # remove long numbers (like phone numbers)\n",
    "    text = re.sub(r'[^a-zA-Z\\s]', '', text)            # remove punctuation and digits\n",
    "    text = re.sub(r'\\s+', ' ', text).strip()           # collapse multiple spaces\n",
    "    return text\n",
    "\n",
    "def clean_with_textacy(text):\n",
    "    doc = nlp(text)\n",
    "    tokens = [\n",
    "        token.lemma_\n",
    "        for token in doc\n",
    "        if not token.is_stop and token.is_alpha and token.pos_ in {\"NOUN\", \"VERB\", \"ADJ\", \"ADV\"}\n",
    "    ]\n",
    "    return \" \".join(tokens)\n",
    "\n",
    "def preprocess_text(text):\n",
    "    step0 = clean_text_regex(text)\n",
    "    step1 = basic_clean(step0)\n",
    "    step2 = clean_with_textacy(step1)\n",
    "    return step2\n"
   ]
  },
  {
   "cell_type": "code",
   "execution_count": 3,
   "id": "22238c93",
   "metadata": {},
   "outputs": [
    {
     "name": "stdout",
     "output_type": "stream",
     "text": [
      "additive model provide flexibility well interpretability avoid curse dimensionality\n"
     ]
    }
   ],
   "source": [
    "# Example usage\n",
    "raw_text = \"Additive models provide flexibility, better interpretability, and avoid the curse of dimensionality!\"\n",
    "cleaned_text = preprocess_text(raw_text)\n",
    "print(cleaned_text)"
   ]
  },
  {
   "cell_type": "code",
   "execution_count": null,
   "id": "acd75d64",
   "metadata": {},
   "outputs": [],
   "source": []
  }
 ],
 "metadata": {
  "kernelspec": {
   "display_name": "Python 3",
   "language": "python",
   "name": "python3"
  },
  "language_info": {
   "codemirror_mode": {
    "name": "ipython",
    "version": 3
   },
   "file_extension": ".py",
   "mimetype": "text/x-python",
   "name": "python",
   "nbconvert_exporter": "python",
   "pygments_lexer": "ipython3",
   "version": "3.13.5"
  }
 },
 "nbformat": 4,
 "nbformat_minor": 5
}
